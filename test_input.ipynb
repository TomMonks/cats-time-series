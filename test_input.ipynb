{
 "cells": [
  {
   "cell_type": "code",
   "execution_count": 1,
   "metadata": {},
   "outputs": [],
   "source": [
    "import pandas as pd\n",
    "import numpy as np\n",
    "import matplotlib.pyplot as plt\n",
    "import seaborn as sns\n",
    "sns.set()\n",
    "%matplotlib inline"
   ]
  },
  {
   "cell_type": "code",
   "execution_count": 2,
   "metadata": {},
   "outputs": [],
   "source": [
    "from cat_analysis.io import (read_trip_file_names,\n",
    "                            CleanTrip,\n",
    "                            TripSummaryStatistics)"
   ]
  },
  {
   "cell_type": "code",
   "execution_count": 3,
   "metadata": {},
   "outputs": [],
   "source": [
    "files = read_trip_file_names('/home/tom/Documents/code/cats_data')"
   ]
  },
  {
   "cell_type": "code",
   "execution_count": 4,
   "metadata": {},
   "outputs": [],
   "source": [
    "#1 - multiple measures okay (might have different fields from others...)\n",
    "#5 - lots of missing data\n",
    "#6-  HR only\n",
    "#25 - a nice example\n",
    "#32 contains 'invalid date'\n",
    "#40 - good for \n",
    "\n",
    "ct = CleanTrip(files[1], wave_features=['mean', 'std', 'max'])"
   ]
  },
  {
   "cell_type": "code",
   "execution_count": 5,
   "metadata": {},
   "outputs": [],
   "source": [
    "ct.clean()"
   ]
  },
  {
   "cell_type": "code",
   "execution_count": 6,
   "metadata": {},
   "outputs": [],
   "source": [
    "summary = TripSummaryStatistics(ct)"
   ]
  },
  {
   "cell_type": "code",
   "execution_count": 9,
   "metadata": {},
   "outputs": [],
   "source": [
    "summary.calculate(resample='15s')"
   ]
  },
  {
   "cell_type": "code",
   "execution_count": null,
   "metadata": {},
   "outputs": [],
   "source": [
    "summary.duration\n",
    "int(summary.duration.total_seconds() / 60)"
   ]
  },
  {
   "cell_type": "code",
   "execution_count": null,
   "metadata": {},
   "outputs": [],
   "source": [
    "ct.time_series.head()"
   ]
  },
  {
   "cell_type": "code",
   "execution_count": null,
   "metadata": {},
   "outputs": [],
   "source": [
    "df = ct.time_series\n",
    "results = {}\n",
    "results['per_missing'] = (1 - df.count()/df.shape[0])*100\n",
    "results['mean'] = df.mean()\n",
    "results['std'] = df.std()\n",
    "results['min'] = df.min()\n",
    "results['max'] = df.max()\n",
    "results['median'] = df.quantile(q=0.5)\n",
    "results['iqr'] = df.quantile(q=0.75) - df.quantile(q=0.25)\n",
    "df_summary = pd.DataFrame(results)\n",
    "df_summary"
   ]
  },
  {
   "cell_type": "code",
   "execution_count": null,
   "metadata": {},
   "outputs": [],
   "source": [
    "ct.time_series['hr_0002-4182'].plot(figsize=(12,8))"
   ]
  },
  {
   "cell_type": "code",
   "execution_count": null,
   "metadata": {},
   "outputs": [],
   "source": [
    "r_ts = ct.resample(rule='15s', interp=True)\n",
    "r_ts['wcoo_mean'].plot.line(figsize=(12,8))\n",
    "r_ts['wcoo_std'].plot.line(figsize=(12,8))\n",
    "r_ts['wcoo_max'].plot.line(figsize=(12,8))\n",
    "#r_ts['wcoo_min'].plot.line(figsize=(12,8))"
   ]
  },
  {
   "cell_type": "code",
   "execution_count": null,
   "metadata": {},
   "outputs": [],
   "source": [
    "r_ts = ct.resample(rule='60s', interp=False)\n",
    "r_ts['hr_0002-4182'].plot.line(figsize=(12,8))\n",
    "r_ts['abps_0002-4a15'].plot.line(figsize=(12,8))\n",
    "r_ts['nbpm_0002-4a07'].plot.line(figsize=(12,8))"
   ]
  },
  {
   "cell_type": "code",
   "execution_count": null,
   "metadata": {},
   "outputs": [],
   "source": []
  },
  {
   "cell_type": "code",
   "execution_count": null,
   "metadata": {},
   "outputs": [],
   "source": [
    "ct.time_series['hr_0002-4182'].plot(figsize=(12,8))"
   ]
  }
 ],
 "metadata": {
  "kernelspec": {
   "display_name": "Python 3",
   "language": "python",
   "name": "python3"
  },
  "language_info": {
   "codemirror_mode": {
    "name": "ipython",
    "version": 3
   },
   "file_extension": ".py",
   "mimetype": "text/x-python",
   "name": "python",
   "nbconvert_exporter": "python",
   "pygments_lexer": "ipython3",
   "version": "3.7.3"
  }
 },
 "nbformat": 4,
 "nbformat_minor": 4
}
